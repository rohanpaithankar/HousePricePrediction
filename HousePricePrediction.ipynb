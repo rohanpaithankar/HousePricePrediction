{
 "cells": [
  {
   "cell_type": "markdown",
   "metadata": {},
   "source": [
    "# Group014 - Assignment 4\n",
    "\n",
    "Name: Shantanu Shastri\n",
    "\n",
    "Student ID: 30387612\n",
    "\n",
    "Name: Rohan Paithankar\n",
    "\n",
    "Student ID: 30131502\n",
    "\n",
    "# Task 1\n",
    "\n",
    "## Importing Relevant Libraries"
   ]
  },
  {
   "cell_type": "code",
   "execution_count": 1,
   "metadata": {},
   "outputs": [],
   "source": [
    "import pandas as pd\n",
    "from urllib.request import urlopen\n",
    "from bs4 import BeautifulSoup\n",
    "import re\n",
    "import geopandas as gpd\n",
    "from shapely.geometry import Point,shape\n",
    "from shapely.geometry.polygon import Polygon\n",
    "from datetime import datetime\n",
    "import codecs\n",
    "import matplotlib.pyplot as plt\n",
    "%matplotlib inline\n",
    "from sklearn import preprocessing\n",
    "import math"
   ]
  },
  {
   "cell_type": "markdown",
   "metadata": {},
   "source": [
    "## Unzipping the Files\n",
    "\n",
    "Loading the zipped gtfs file and unzipping only the relevant folders (1 and 2) containing Local and Regional Trains data out of the 11 folders and extracting it. `Commented so as to avoid errors for path.`"
   ]
  },
  {
   "cell_type": "code",
   "execution_count": 2,
   "metadata": {},
   "outputs": [],
   "source": [
    "#import zipfile\n",
    "#with zipfile.ZipFile('gtfs/1/google_transit.zip', 'r') as zip_ref:\n",
    "#    zip_ref.extractall('gtfs/1/')\n",
    "#with zipfile.ZipFile('gtfs/2/google_transit.zip', 'r') as zip_ref:\n",
    "#    zip_ref.extractall('gtfs/2/') "
   ]
  },
  {
   "cell_type": "markdown",
   "metadata": {},
   "source": [
    "## Loading Data\n",
    "Loading the .shp shape data using geopandas library and converting it into a dataframe using pandas. Also, loading the Property data using pandas library."
   ]
  },
  {
   "cell_type": "code",
   "execution_count": 3,
   "metadata": {},
   "outputs": [],
   "source": [
    "shapeFile = gpd.read_file('vic_suburb_boundary/VIC_LOCALITY_POLYGON_shp.shp')\n",
    "shapeFile_df = pd.DataFrame(shapeFile)\n",
    "houses = pd.read_csv('Properties.csv')"
   ]
  },
  {
   "cell_type": "markdown",
   "metadata": {},
   "source": [
    "## Adding Suburbs using Polygon\n",
    "For adding suburbs, we checked whether the latitude and longitude of the Property provided lies within any of the shape(which consists of multiple latitudes and longitudes) using contains and if matched, then assigned the corresponding suburb name to the column Suburb."
   ]
  },
  {
   "cell_type": "code",
   "execution_count": 4,
   "metadata": {},
   "outputs": [],
   "source": [
    "houses['Suburb'] = 'not available'   #Default value"
   ]
  },
  {
   "cell_type": "code",
   "execution_count": 5,
   "metadata": {},
   "outputs": [
    {
     "name": "stderr",
     "output_type": "stream",
     "text": [
      "/Users/rohan/opt/anaconda3/lib/python3.7/site-packages/pandas/core/indexing.py:205: SettingWithCopyWarning: \n",
      "A value is trying to be set on a copy of a slice from a DataFrame\n",
      "\n",
      "See the caveats in the documentation: http://pandas.pydata.org/pandas-docs/stable/user_guide/indexing.html#returning-a-view-versus-a-copy\n",
      "  self._setitem_with_indexer(indexer, value)\n"
     ]
    }
   ],
   "source": [
    "for i,polygon in shapeFile_df.iterrows():\n",
    "    sub = shape(polygon['geometry'])\n",
    "    for j,house in houses.iterrows():\n",
    "        if sub.contains(Point(house['Longtitude'],house['Lattitude'])):\n",
    "            houses['Suburb'].loc[j] = shapeFile_df['VIC_LOCA_2'].loc[i]"
   ]
  },
  {
   "cell_type": "markdown",
   "metadata": {},
   "source": [
    "### Removing Departure times which are outside 7-9:30am\n",
    "\n",
    "We loaded data from folder 1(Local) and folder 2(Regional) into local_trips and regional_trips respectively. We further eliminated the the rows where the departure time from the suburb was greater than 09:30 or less than 07:00 in the morning."
   ]
  },
  {
   "cell_type": "code",
   "execution_count": 6,
   "metadata": {},
   "outputs": [],
   "source": [
    "local_trips = pd.read_csv('2/stop_times.txt',sep = ',')\n",
    "#-----------\n",
    "regional_trips = pd.read_csv('1/stop_times.txt',sep = ',')"
   ]
  },
  {
   "cell_type": "code",
   "execution_count": 7,
   "metadata": {},
   "outputs": [
    {
     "name": "stdout",
     "output_type": "stream",
     "text": [
      "trip_id                469488\n",
      "arrival_time           469488\n",
      "departure_time         469488\n",
      "stop_id                469488\n",
      "stop_sequence          469488\n",
      "stop_headsign               0\n",
      "pickup_type            469488\n",
      "drop_off_type          469488\n",
      "shape_dist_traveled    469296\n",
      "dtype: int64\n",
      "trip_id                80979\n",
      "arrival_time           80979\n",
      "departure_time         80979\n",
      "stop_id                80979\n",
      "stop_sequence          80979\n",
      "stop_headsign              0\n",
      "pickup_type            80979\n",
      "drop_off_type          80979\n",
      "shape_dist_traveled    80970\n",
      "dtype: int64\n",
      "trip_id                72489\n",
      "arrival_time           72489\n",
      "departure_time         72489\n",
      "stop_id                72489\n",
      "stop_sequence          72489\n",
      "stop_headsign              0\n",
      "pickup_type            72489\n",
      "drop_off_type          72489\n",
      "shape_dist_traveled    72489\n",
      "dtype: int64\n",
      "trip_id                15228\n",
      "arrival_time           15228\n",
      "departure_time         15228\n",
      "stop_id                15228\n",
      "stop_sequence          15228\n",
      "stop_headsign              0\n",
      "pickup_type            15228\n",
      "drop_off_type          15228\n",
      "shape_dist_traveled    15228\n",
      "dtype: int64\n"
     ]
    }
   ],
   "source": [
    "#------------------------Local Trips----------------------------#\n",
    "print(local_trips.count())\n",
    "drop_rows = []\n",
    "for i, row in local_trips.iterrows():\n",
    "    if (row['departure_time'].startswith('24') or row['departure_time'].startswith('25') or row['departure_time'].startswith('26') or row['departure_time'].startswith('27')):\n",
    "        drop_rows.append(i)\n",
    "    elif((datetime.strptime(row['departure_time'],'%H:%M:%S') < datetime.strptime(\"07:00:00\",'%H:%M:%S'))):\n",
    "         drop_rows.append(i)\n",
    "    elif (datetime.strptime(row['departure_time'],'%H:%M:%S') > datetime.strptime(\"09:30:00\",'%H:%M:%S')) and (row['stop_id']!= 22180):\n",
    "        drop_rows.append(i)\n",
    "local_trips = local_trips.drop(drop_rows)\n",
    "print(local_trips.count())\n",
    "\n",
    "\n",
    "#----------------------Regional Trips---------------------------#\n",
    "\n",
    "print(regional_trips.count())\n",
    "drop_rows_r = []\n",
    "for i,row in regional_trips.iterrows():\n",
    "    if (row['departure_time'].startswith('24') or row['departure_time'].startswith('25') or row['departure_time'].startswith('26') or row['departure_time'].startswith('27')):\n",
    "        drop_rows_r.append(i)\n",
    "    elif((datetime.strptime(row['departure_time'],'%H:%M:%S') < datetime.strptime(\"07:00:00\",'%H:%M:%S'))):\n",
    "         drop_rows_r.append(i)\n",
    "    elif (datetime.strptime(row['departure_time'],'%H:%M:%S') > datetime.strptime(\"09:30:00\",'%H:%M:%S')) and (row['stop_id']!= 20043):\n",
    "        drop_rows_r.append(i)\n",
    "regional_trips = regional_trips.drop(drop_rows_r)\n",
    "print(regional_trips.count())"
   ]
  },
  {
   "cell_type": "markdown",
   "metadata": {},
   "source": [
    "Further, we converted the departure_time and arrival_time from String into datetime data type."
   ]
  },
  {
   "cell_type": "code",
   "execution_count": 8,
   "metadata": {},
   "outputs": [],
   "source": [
    "#------------------Local Trips-------------------------#\n",
    "local_trips[\"departure_time\"] = pd.to_datetime(local_trips[\"departure_time\"],format= '%H:%M:%S' )\n",
    "local_trips[\"arrival_time\"] = pd.to_datetime(local_trips[\"arrival_time\"],format= '%H:%M:%S' )\n",
    "\n",
    "#------------------Regional Trips----------------------#\n",
    "\n",
    "regional_trips[\"departure_time\"] = pd.to_datetime(regional_trips[\"departure_time\"],format= '%H:%M:%S' )\n",
    "regional_trips[\"arrival_time\"] = pd.to_datetime(regional_trips[\"arrival_time\"],format= '%H:%M:%S' )\n"
   ]
  },
  {
   "cell_type": "markdown",
   "metadata": {},
   "source": [
    "## Removal of those trips from local_trips that operate on weekends\n",
    "Inorder to extract only the weekday trips , we followed the following steps:\n",
    "Loaded data from calendar.txt into a dataframe called local_calendar for the local data and regional_calendar for regional data.\n",
    "We extracted the service id's from the file where either of the weekend values are 1 inorder to get service id's of only the weekday trips and created a list of service id's called weekend_trips_r and weekend_trips_l for the regional and local respectively.\n",
    "We then filtered out the trips from stop_times.txt using the service id list extracted from calendar.txt."
   ]
  },
  {
   "cell_type": "code",
   "execution_count": 9,
   "metadata": {},
   "outputs": [],
   "source": [
    "#----------------------Local-------------------------#\n",
    "local_routes = pd.read_csv('2/routes.txt',sep = ',')\n",
    "\n",
    "#-----------------------Regional---------------------#\n",
    "regional_routes = pd.read_csv('1/routes.txt',sep = ',')"
   ]
  },
  {
   "cell_type": "markdown",
   "metadata": {},
   "source": [
    "### Creating list of trips on the weekends"
   ]
  },
  {
   "cell_type": "code",
   "execution_count": 10,
   "metadata": {},
   "outputs": [
    {
     "name": "stdout",
     "output_type": "stream",
     "text": [
      "{'UJ_5', 'UJ_4', 'T2_4', 'T2', 'UJ_2', 'UJ_3', 'T2_5', 'UJ', 'UJ_1', 'T2_2', 'T2_3', 'T2_1'}\n"
     ]
    }
   ],
   "source": [
    "#-----------------------Local---------------------#\n",
    "local_calendar = pd.read_csv('2/calendar.txt',sep = ',')\n",
    "weekend_trips_l = []\n",
    "for i, row in local_calendar.iterrows():\n",
    "    if row['saturday'] == 1 or row['sunday'] == 1:\n",
    "        weekend_trips_l.append(row['service_id'])\n",
    "\n",
    "\n",
    "#-----------------------Regional---------------------#\n",
    "regional_calendar = pd.read_csv('1/calendar.txt',sep = ',')\n",
    "weekend_trips_r = []\n",
    "for i, row in regional_calendar.iterrows():\n",
    "    if row['saturday'] == 1 or row['sunday'] == 1:\n",
    "        weekend_trips_r.append(row['service_id'])\n",
    "\n",
    "weekend_trips = set(weekend_trips_l + weekend_trips_r)\n",
    "print(weekend_trips)"
   ]
  },
  {
   "cell_type": "markdown",
   "metadata": {},
   "source": [
    "### Removing weekend trips \n",
    "Using the list of service_ids weekend_trips_r and weekend_trips_l, we eliminated the trips that were running on weekends from our local_trips and regional_trips dataframe so that we have only the relevant trips for further operations."
   ]
  },
  {
   "cell_type": "code",
   "execution_count": 11,
   "metadata": {},
   "outputs": [
    {
     "name": "stdout",
     "output_type": "stream",
     "text": [
      "trip_id                80979\n",
      "arrival_time           80979\n",
      "departure_time         80979\n",
      "stop_id                80979\n",
      "stop_sequence          80979\n",
      "stop_headsign              0\n",
      "pickup_type            80979\n",
      "drop_off_type          80979\n",
      "shape_dist_traveled    80970\n",
      "dtype: int64\n",
      "trip_id                58939\n",
      "arrival_time           58939\n",
      "departure_time         58939\n",
      "stop_id                58939\n",
      "stop_sequence          58939\n",
      "stop_headsign              0\n",
      "pickup_type            58939\n",
      "drop_off_type          58939\n",
      "shape_dist_traveled    58939\n",
      "dtype: int64\n",
      "trip_id                15228\n",
      "arrival_time           15228\n",
      "departure_time         15228\n",
      "stop_id                15228\n",
      "stop_sequence          15228\n",
      "stop_headsign              0\n",
      "pickup_type            15228\n",
      "drop_off_type          15228\n",
      "shape_dist_traveled    15228\n",
      "dtype: int64\n",
      "trip_id                9615\n",
      "arrival_time           9615\n",
      "departure_time         9615\n",
      "stop_id                9615\n",
      "stop_sequence          9615\n",
      "stop_headsign             0\n",
      "pickup_type            9615\n",
      "drop_off_type          9615\n",
      "shape_dist_traveled    9615\n",
      "dtype: int64\n"
     ]
    }
   ],
   "source": [
    "#-------------------Local------------------------#\n",
    "print(local_trips.count())\n",
    "drop_weekend_trips_l = []\n",
    "for i,row in local_trips.iterrows():\n",
    "    for service in weekend_trips:\n",
    "        if (service in row['trip_id']):\n",
    "            drop_weekend_trips_l.append(i)\n",
    "local_trips = local_trips.drop(drop_weekend_trips_l)\n",
    "print(local_trips.count())\n",
    "\n",
    "#-------------------Regional---------------------#\n",
    "print(regional_trips.count())\n",
    "drop_weekend_trips_r = []\n",
    "for i,row in regional_trips.iterrows():\n",
    "    for service in weekend_trips:\n",
    "        if (service in row['trip_id']):\n",
    "            drop_weekend_trips_r.append(i)\n",
    "regional_trips = regional_trips.drop(drop_weekend_trips_r)\n",
    "print(regional_trips.count())\n"
   ]
  },
  {
   "cell_type": "markdown",
   "metadata": {},
   "source": [
    "### Filtering trips that go to Southern Cross\n",
    "\n",
    "Inorder to get direct trips from stations to southern cross station, we filtered out the trips which do not contain the station id 22180 for local and 20043 for regional respectively inroder to be left with only the relevant trips which include southern cross station in them.\n",
    "We created a list drop_trips for local and drop_trips_r for regional inroder to store the indexes of the trips which do not have southern cross station in them and we dropped them from our dataframe local_trips and regional_trips."
   ]
  },
  {
   "cell_type": "code",
   "execution_count": 12,
   "metadata": {},
   "outputs": [],
   "source": [
    "#------------------------Local--------------------#\n",
    "local_trips['time_to_sc'] = 0\n",
    "trips_to_sc = []\n",
    "sc = []\n",
    "for i,row in local_trips.iterrows():\n",
    "    if(row['stop_id'] == 22180):\n",
    "        trips_to_sc.append(row['trip_id'])\n",
    "trips_to_sc = set(trips_to_sc)\n",
    "\n",
    "#-----------------------Regional-------------------#\n",
    "\n",
    "regional_trips['time_to_sc'] = 0\n",
    "trips_to_sc_r = []\n",
    "sc = []\n",
    "for i,row in regional_trips.iterrows():\n",
    "    if(row['stop_id'] == 20043):\n",
    "        trips_to_sc_r.append(row['trip_id'])\n",
    "trips_to_sc_r = set(trips_to_sc_r)\n"
   ]
  },
  {
   "cell_type": "markdown",
   "metadata": {},
   "source": [
    "We create a set of trip ids involving southern cross stations inorder to create a dictionary of arrival time at southern cross for each trip.\n",
    "We created a set from list called trips_to_sc for storing all the trip ids of the trips which involve southern cross station.\n",
    "We followed the same procedure for the regional as well."
   ]
  },
  {
   "cell_type": "code",
   "execution_count": 13,
   "metadata": {
    "scrolled": true
   },
   "outputs": [
    {
     "data": {
      "text/html": [
       "<div>\n",
       "<style scoped>\n",
       "    .dataframe tbody tr th:only-of-type {\n",
       "        vertical-align: middle;\n",
       "    }\n",
       "\n",
       "    .dataframe tbody tr th {\n",
       "        vertical-align: top;\n",
       "    }\n",
       "\n",
       "    .dataframe thead th {\n",
       "        text-align: right;\n",
       "    }\n",
       "</style>\n",
       "<table border=\"1\" class=\"dataframe\">\n",
       "  <thead>\n",
       "    <tr style=\"text-align: right;\">\n",
       "      <th></th>\n",
       "      <th>trip_id</th>\n",
       "      <th>arrival_time</th>\n",
       "      <th>departure_time</th>\n",
       "      <th>stop_id</th>\n",
       "      <th>stop_sequence</th>\n",
       "      <th>stop_headsign</th>\n",
       "      <th>pickup_type</th>\n",
       "      <th>drop_off_type</th>\n",
       "      <th>shape_dist_traveled</th>\n",
       "      <th>time_to_sc</th>\n",
       "    </tr>\n",
       "  </thead>\n",
       "  <tbody>\n",
       "    <tr>\n",
       "      <td>3</td>\n",
       "      <td>7548.UR.1-V08-A-mjp-1.1.H</td>\n",
       "      <td>1900-01-01 07:16:00</td>\n",
       "      <td>1900-01-01 07:16:00</td>\n",
       "      <td>20339</td>\n",
       "      <td>4</td>\n",
       "      <td>NaN</td>\n",
       "      <td>0</td>\n",
       "      <td>0</td>\n",
       "      <td>94514.728171</td>\n",
       "      <td>0</td>\n",
       "    </tr>\n",
       "    <tr>\n",
       "      <td>4</td>\n",
       "      <td>7548.UR.1-V08-A-mjp-1.1.H</td>\n",
       "      <td>1900-01-01 07:32:00</td>\n",
       "      <td>1900-01-01 07:34:00</td>\n",
       "      <td>20351</td>\n",
       "      <td>5</td>\n",
       "      <td>NaN</td>\n",
       "      <td>0</td>\n",
       "      <td>0</td>\n",
       "      <td>116895.210301</td>\n",
       "      <td>0</td>\n",
       "    </tr>\n",
       "    <tr>\n",
       "      <td>5</td>\n",
       "      <td>7548.UR.1-V08-A-mjp-1.1.H</td>\n",
       "      <td>1900-01-01 07:45:00</td>\n",
       "      <td>1900-01-01 07:45:00</td>\n",
       "      <td>20330</td>\n",
       "      <td>6</td>\n",
       "      <td>NaN</td>\n",
       "      <td>0</td>\n",
       "      <td>0</td>\n",
       "      <td>130530.089787</td>\n",
       "      <td>0</td>\n",
       "    </tr>\n",
       "    <tr>\n",
       "      <td>6</td>\n",
       "      <td>7548.UR.1-V08-A-mjp-1.1.H</td>\n",
       "      <td>1900-01-01 07:57:00</td>\n",
       "      <td>1900-01-01 07:57:00</td>\n",
       "      <td>20328</td>\n",
       "      <td>7</td>\n",
       "      <td>NaN</td>\n",
       "      <td>0</td>\n",
       "      <td>0</td>\n",
       "      <td>145000.117101</td>\n",
       "      <td>0</td>\n",
       "    </tr>\n",
       "    <tr>\n",
       "      <td>7</td>\n",
       "      <td>7548.UR.1-V08-A-mjp-1.1.H</td>\n",
       "      <td>1900-01-01 08:16:00</td>\n",
       "      <td>1900-01-01 08:16:00</td>\n",
       "      <td>20357</td>\n",
       "      <td>10</td>\n",
       "      <td>NaN</td>\n",
       "      <td>0</td>\n",
       "      <td>0</td>\n",
       "      <td>175519.536474</td>\n",
       "      <td>0</td>\n",
       "    </tr>\n",
       "  </tbody>\n",
       "</table>\n",
       "</div>"
      ],
      "text/plain": [
       "                     trip_id        arrival_time      departure_time  stop_id  \\\n",
       "3  7548.UR.1-V08-A-mjp-1.1.H 1900-01-01 07:16:00 1900-01-01 07:16:00    20339   \n",
       "4  7548.UR.1-V08-A-mjp-1.1.H 1900-01-01 07:32:00 1900-01-01 07:34:00    20351   \n",
       "5  7548.UR.1-V08-A-mjp-1.1.H 1900-01-01 07:45:00 1900-01-01 07:45:00    20330   \n",
       "6  7548.UR.1-V08-A-mjp-1.1.H 1900-01-01 07:57:00 1900-01-01 07:57:00    20328   \n",
       "7  7548.UR.1-V08-A-mjp-1.1.H 1900-01-01 08:16:00 1900-01-01 08:16:00    20357   \n",
       "\n",
       "   stop_sequence  stop_headsign  pickup_type  drop_off_type  \\\n",
       "3              4            NaN            0              0   \n",
       "4              5            NaN            0              0   \n",
       "5              6            NaN            0              0   \n",
       "6              7            NaN            0              0   \n",
       "7             10            NaN            0              0   \n",
       "\n",
       "   shape_dist_traveled  time_to_sc  \n",
       "3         94514.728171           0  \n",
       "4        116895.210301           0  \n",
       "5        130530.089787           0  \n",
       "6        145000.117101           0  \n",
       "7        175519.536474           0  "
      ]
     },
     "execution_count": 13,
     "metadata": {},
     "output_type": "execute_result"
    }
   ],
   "source": [
    "#------------------------Local-------------------#\n",
    "drop_trips = []                      #Remove trips that do not include southern cross\n",
    "for i,row in local_trips.iterrows():\n",
    "    if row['trip_id'] not in trips_to_sc:\n",
    "        drop_trips.append(i)\n",
    "local_trips = local_trips.drop(drop_trips)\n",
    "local_trips.head()\n",
    "\n",
    "#------------------------Regional-----------------#\n",
    "\n",
    "drop_trips_r = []                      #Remove trips that do not include southern cross\n",
    "for i,row in regional_trips.iterrows():\n",
    "    if row['trip_id'] not in trips_to_sc_r:\n",
    "        drop_trips_r.append(i)\n",
    "regional_trips = regional_trips.drop(drop_trips_r)\n",
    "regional_trips.head()\n"
   ]
  },
  {
   "cell_type": "markdown",
   "metadata": {},
   "source": [
    "### Dictionary of Arrival times at southern cross from each station \n",
    "We create a dictionary called southern_cross_trips and southern_cross_trips_r for local and regional data respectively. We calculated the arrival time of the train at southern cross station in each of trips for the local and regional data."
   ]
  },
  {
   "cell_type": "code",
   "execution_count": 14,
   "metadata": {
    "scrolled": false
   },
   "outputs": [],
   "source": [
    "#--------------------------------Local-----------------------#\n",
    "southern_cross_trips = {}\n",
    "for i,row in local_trips.iterrows():\n",
    "    if row['stop_id'] == 22180:\n",
    "        southern_cross_trips[row['trip_id']] = row['arrival_time']\n",
    "        \n",
    "#--------------------------------Regional-----------------------#\n",
    "\n",
    "southern_cross_trips_r = {}\n",
    "for i,row in regional_trips.iterrows():\n",
    "    if row['stop_id'] == 20043:\n",
    "        southern_cross_trips_r[row['trip_id']] = row['arrival_time']"
   ]
  },
  {
   "cell_type": "markdown",
   "metadata": {},
   "source": [
    "### Calculating Time to Southern cross from each station\n",
    "\n",
    "For simplifying the calculation of travel_min_to_CBD,we created a column time_to_sc in our local_trips and regional_trips which holds the value of time required to travel from each station to southern cross in minutes.\n",
    "time_to_sc is the difference between departure times from each station in a particular trip and arrival time at southern cross in that particular trip."
   ]
  },
  {
   "cell_type": "code",
   "execution_count": 15,
   "metadata": {},
   "outputs": [
    {
     "data": {
      "text/html": [
       "<div>\n",
       "<style scoped>\n",
       "    .dataframe tbody tr th:only-of-type {\n",
       "        vertical-align: middle;\n",
       "    }\n",
       "\n",
       "    .dataframe tbody tr th {\n",
       "        vertical-align: top;\n",
       "    }\n",
       "\n",
       "    .dataframe thead th {\n",
       "        text-align: right;\n",
       "    }\n",
       "</style>\n",
       "<table border=\"1\" class=\"dataframe\">\n",
       "  <thead>\n",
       "    <tr style=\"text-align: right;\">\n",
       "      <th></th>\n",
       "      <th>trip_id</th>\n",
       "      <th>arrival_time</th>\n",
       "      <th>departure_time</th>\n",
       "      <th>stop_id</th>\n",
       "      <th>stop_sequence</th>\n",
       "      <th>stop_headsign</th>\n",
       "      <th>pickup_type</th>\n",
       "      <th>drop_off_type</th>\n",
       "      <th>shape_dist_traveled</th>\n",
       "      <th>time_to_sc</th>\n",
       "    </tr>\n",
       "  </thead>\n",
       "  <tbody>\n",
       "    <tr>\n",
       "      <td>3</td>\n",
       "      <td>7548.UR.1-V08-A-mjp-1.1.H</td>\n",
       "      <td>1900-01-01 07:16:00</td>\n",
       "      <td>1900-01-01 07:16:00</td>\n",
       "      <td>20339</td>\n",
       "      <td>4</td>\n",
       "      <td>NaN</td>\n",
       "      <td>0</td>\n",
       "      <td>0</td>\n",
       "      <td>94514.728171</td>\n",
       "      <td>161.0</td>\n",
       "    </tr>\n",
       "    <tr>\n",
       "      <td>4</td>\n",
       "      <td>7548.UR.1-V08-A-mjp-1.1.H</td>\n",
       "      <td>1900-01-01 07:32:00</td>\n",
       "      <td>1900-01-01 07:34:00</td>\n",
       "      <td>20351</td>\n",
       "      <td>5</td>\n",
       "      <td>NaN</td>\n",
       "      <td>0</td>\n",
       "      <td>0</td>\n",
       "      <td>116895.210301</td>\n",
       "      <td>143.0</td>\n",
       "    </tr>\n",
       "    <tr>\n",
       "      <td>5</td>\n",
       "      <td>7548.UR.1-V08-A-mjp-1.1.H</td>\n",
       "      <td>1900-01-01 07:45:00</td>\n",
       "      <td>1900-01-01 07:45:00</td>\n",
       "      <td>20330</td>\n",
       "      <td>6</td>\n",
       "      <td>NaN</td>\n",
       "      <td>0</td>\n",
       "      <td>0</td>\n",
       "      <td>130530.089787</td>\n",
       "      <td>132.0</td>\n",
       "    </tr>\n",
       "    <tr>\n",
       "      <td>6</td>\n",
       "      <td>7548.UR.1-V08-A-mjp-1.1.H</td>\n",
       "      <td>1900-01-01 07:57:00</td>\n",
       "      <td>1900-01-01 07:57:00</td>\n",
       "      <td>20328</td>\n",
       "      <td>7</td>\n",
       "      <td>NaN</td>\n",
       "      <td>0</td>\n",
       "      <td>0</td>\n",
       "      <td>145000.117101</td>\n",
       "      <td>120.0</td>\n",
       "    </tr>\n",
       "    <tr>\n",
       "      <td>7</td>\n",
       "      <td>7548.UR.1-V08-A-mjp-1.1.H</td>\n",
       "      <td>1900-01-01 08:16:00</td>\n",
       "      <td>1900-01-01 08:16:00</td>\n",
       "      <td>20357</td>\n",
       "      <td>10</td>\n",
       "      <td>NaN</td>\n",
       "      <td>0</td>\n",
       "      <td>0</td>\n",
       "      <td>175519.536474</td>\n",
       "      <td>101.0</td>\n",
       "    </tr>\n",
       "  </tbody>\n",
       "</table>\n",
       "</div>"
      ],
      "text/plain": [
       "                     trip_id        arrival_time      departure_time  stop_id  \\\n",
       "3  7548.UR.1-V08-A-mjp-1.1.H 1900-01-01 07:16:00 1900-01-01 07:16:00    20339   \n",
       "4  7548.UR.1-V08-A-mjp-1.1.H 1900-01-01 07:32:00 1900-01-01 07:34:00    20351   \n",
       "5  7548.UR.1-V08-A-mjp-1.1.H 1900-01-01 07:45:00 1900-01-01 07:45:00    20330   \n",
       "6  7548.UR.1-V08-A-mjp-1.1.H 1900-01-01 07:57:00 1900-01-01 07:57:00    20328   \n",
       "7  7548.UR.1-V08-A-mjp-1.1.H 1900-01-01 08:16:00 1900-01-01 08:16:00    20357   \n",
       "\n",
       "   stop_sequence  stop_headsign  pickup_type  drop_off_type  \\\n",
       "3              4            NaN            0              0   \n",
       "4              5            NaN            0              0   \n",
       "5              6            NaN            0              0   \n",
       "6              7            NaN            0              0   \n",
       "7             10            NaN            0              0   \n",
       "\n",
       "   shape_dist_traveled  time_to_sc  \n",
       "3         94514.728171       161.0  \n",
       "4        116895.210301       143.0  \n",
       "5        130530.089787       132.0  \n",
       "6        145000.117101       120.0  \n",
       "7        175519.536474       101.0  "
      ]
     },
     "execution_count": 15,
     "metadata": {},
     "output_type": "execute_result"
    }
   ],
   "source": [
    "#-------------------Local--------------------#\n",
    "for i,row in local_trips.iterrows():\n",
    "    if southern_cross_trips[row['trip_id']] > row['departure_time']:\n",
    "        local_trips['time_to_sc'].loc[i] = (southern_cross_trips[row['trip_id']] - row['departure_time']).seconds/60\n",
    "local_trips.head(5) \n",
    "\n",
    "#-------------------Regional--------------------#\n",
    "\n",
    "for i,row in regional_trips.iterrows():\n",
    "    if southern_cross_trips_r[row['trip_id']] > row['departure_time']:\n",
    "        regional_trips['time_to_sc'].loc[i] = (southern_cross_trips_r[row['trip_id']] - row['departure_time']).seconds/60\n",
    "regional_trips.head(5) \n"
   ]
  },
  {
   "cell_type": "markdown",
   "metadata": {},
   "source": [
    "We finally merge the local_trips and regional_trips data into a single dataframe called trips using pd.concat from the pandas library which involve only those trips which:\n",
    "Run on weekdays\n",
    "Are between 07:00 and 09:30 am.\n",
    "Have southern cross station in them."
   ]
  },
  {
   "cell_type": "code",
   "execution_count": 16,
   "metadata": {},
   "outputs": [],
   "source": [
    "trips = pd.concat([local_trips,regional_trips],ignore_index=True)\n"
   ]
  },
  {
   "cell_type": "markdown",
   "metadata": {},
   "source": [
    "### Distance to Closest Station from Property\n",
    "We calculated the train_station_id and distance_to_train_station by following the steps below:\n",
    "Loaded data from stops.txt into stops_l and stops_r.\n",
    "We merged the data into stops using pd.concat from pandas library.\n",
    "Assigning train_station_id and distance_to_train_station to initial value of 1.\n",
    "We calculate the distance using the distance formula by using sin,cos and atan.\n",
    "We then store the distance from each property to every station in the particular trip.\n",
    "We calculate the minimum distance using min and assign the distance to the column distance_to_train_station with the distance.\n",
    "We further assign the value of corresponding station_id to the column train_station_id by using the minimum distance."
   ]
  },
  {
   "cell_type": "code",
   "execution_count": 17,
   "metadata": {
    "scrolled": true
   },
   "outputs": [
    {
     "data": {
      "text/html": [
       "<div>\n",
       "<style scoped>\n",
       "    .dataframe tbody tr th:only-of-type {\n",
       "        vertical-align: middle;\n",
       "    }\n",
       "\n",
       "    .dataframe tbody tr th {\n",
       "        vertical-align: top;\n",
       "    }\n",
       "\n",
       "    .dataframe thead th {\n",
       "        text-align: right;\n",
       "    }\n",
       "</style>\n",
       "<table border=\"1\" class=\"dataframe\">\n",
       "  <thead>\n",
       "    <tr style=\"text-align: right;\">\n",
       "      <th></th>\n",
       "      <th>ID</th>\n",
       "      <th>Address</th>\n",
       "      <th>Rooms</th>\n",
       "      <th>Type</th>\n",
       "      <th>Price</th>\n",
       "      <th>Date</th>\n",
       "      <th>Bathroom</th>\n",
       "      <th>Car</th>\n",
       "      <th>Landsize</th>\n",
       "      <th>Age</th>\n",
       "      <th>Lattitude</th>\n",
       "      <th>Longtitude</th>\n",
       "      <th>Suburb</th>\n",
       "      <th>train_station_id</th>\n",
       "      <th>distance_to_train_station</th>\n",
       "    </tr>\n",
       "  </thead>\n",
       "  <tbody>\n",
       "    <tr>\n",
       "      <td>0</td>\n",
       "      <td>ID441936550</td>\n",
       "      <td>414/99 Dow St</td>\n",
       "      <td>2</td>\n",
       "      <td>u</td>\n",
       "      <td>845000.0</td>\n",
       "      <td>7/05/2016</td>\n",
       "      <td>2.0</td>\n",
       "      <td>2.0</td>\n",
       "      <td>2166.0</td>\n",
       "      <td>29.0</td>\n",
       "      <td>-37.84150</td>\n",
       "      <td>144.94120</td>\n",
       "      <td>PORT MELBOURNE</td>\n",
       "      <td>20043</td>\n",
       "      <td>2764.295334</td>\n",
       "    </tr>\n",
       "    <tr>\n",
       "      <td>1</td>\n",
       "      <td>ID874566543</td>\n",
       "      <td>30 Cedar St</td>\n",
       "      <td>2</td>\n",
       "      <td>h</td>\n",
       "      <td>1001000.0</td>\n",
       "      <td>26/07/2016</td>\n",
       "      <td>2.0</td>\n",
       "      <td>1.0</td>\n",
       "      <td>255.0</td>\n",
       "      <td>129.0</td>\n",
       "      <td>-37.88870</td>\n",
       "      <td>145.02070</td>\n",
       "      <td>CAULFIELD SOUTH</td>\n",
       "      <td>19953</td>\n",
       "      <td>1703.266867</td>\n",
       "    </tr>\n",
       "    <tr>\n",
       "      <td>2</td>\n",
       "      <td>ID483823554</td>\n",
       "      <td>5a Compton St</td>\n",
       "      <td>2</td>\n",
       "      <td>u</td>\n",
       "      <td>695000.0</td>\n",
       "      <td>27/05/2017</td>\n",
       "      <td>1.0</td>\n",
       "      <td>1.0</td>\n",
       "      <td>300.0</td>\n",
       "      <td>8.0</td>\n",
       "      <td>-37.80574</td>\n",
       "      <td>145.18832</td>\n",
       "      <td>MITCHAM</td>\n",
       "      <td>19900</td>\n",
       "      <td>1403.129566</td>\n",
       "    </tr>\n",
       "    <tr>\n",
       "      <td>3</td>\n",
       "      <td>ID591113817</td>\n",
       "      <td>4/287 Albion St</td>\n",
       "      <td>1</td>\n",
       "      <td>h</td>\n",
       "      <td>412000.0</td>\n",
       "      <td>8/04/2017</td>\n",
       "      <td>1.0</td>\n",
       "      <td>1.0</td>\n",
       "      <td>85.0</td>\n",
       "      <td>119.0</td>\n",
       "      <td>-37.75980</td>\n",
       "      <td>144.95630</td>\n",
       "      <td>BRUNSWICK</td>\n",
       "      <td>19967</td>\n",
       "      <td>417.877937</td>\n",
       "    </tr>\n",
       "    <tr>\n",
       "      <td>4</td>\n",
       "      <td>ID531857796</td>\n",
       "      <td>1 Ashdown Ct</td>\n",
       "      <td>3</td>\n",
       "      <td>h</td>\n",
       "      <td>671000.0</td>\n",
       "      <td>26/08/2017</td>\n",
       "      <td>1.0</td>\n",
       "      <td>2.0</td>\n",
       "      <td>418.0</td>\n",
       "      <td>89.0</td>\n",
       "      <td>-37.66349</td>\n",
       "      <td>145.03391</td>\n",
       "      <td>LALOR</td>\n",
       "      <td>20005</td>\n",
       "      <td>1280.233751</td>\n",
       "    </tr>\n",
       "  </tbody>\n",
       "</table>\n",
       "</div>"
      ],
      "text/plain": [
       "            ID          Address  Rooms Type      Price        Date  Bathroom  \\\n",
       "0  ID441936550    414/99 Dow St      2    u   845000.0   7/05/2016       2.0   \n",
       "1  ID874566543      30 Cedar St      2    h  1001000.0  26/07/2016       2.0   \n",
       "2  ID483823554    5a Compton St      2    u   695000.0  27/05/2017       1.0   \n",
       "3  ID591113817  4/287 Albion St      1    h   412000.0   8/04/2017       1.0   \n",
       "4  ID531857796     1 Ashdown Ct      3    h   671000.0  26/08/2017       1.0   \n",
       "\n",
       "   Car  Landsize    Age  Lattitude  Longtitude           Suburb  \\\n",
       "0  2.0    2166.0   29.0  -37.84150   144.94120   PORT MELBOURNE   \n",
       "1  1.0     255.0  129.0  -37.88870   145.02070  CAULFIELD SOUTH   \n",
       "2  1.0     300.0    8.0  -37.80574   145.18832          MITCHAM   \n",
       "3  1.0      85.0  119.0  -37.75980   144.95630        BRUNSWICK   \n",
       "4  2.0     418.0   89.0  -37.66349   145.03391            LALOR   \n",
       "\n",
       "   train_station_id  distance_to_train_station  \n",
       "0             20043                2764.295334  \n",
       "1             19953                1703.266867  \n",
       "2             19900                1403.129566  \n",
       "3             19967                 417.877937  \n",
       "4             20005                1280.233751  "
      ]
     },
     "execution_count": 17,
     "metadata": {},
     "output_type": "execute_result"
    }
   ],
   "source": [
    "from math import sin,cos,sqrt,atan2,radians\n",
    "stops_l = pd.read_csv('2/stops.txt',sep = ',')\n",
    "stops_r = pd.read_csv('1/stops.txt',sep = ',')\n",
    "\n",
    "#Merging the data into single dataframe\n",
    "stops = pd.concat([stops_l,stops_r],ignore_index = True)\n",
    "\n",
    "#Assigning initial value to -1\n",
    "houses['train_station_id'] = -1\n",
    "houses['distance_to_train_station'] = -1\n",
    "\n",
    "#Radius of earth \n",
    "R = 6378.0\n",
    "\n",
    "for i,row in houses.iterrows():\n",
    "    distance = []            # List to store the distances from property to each station\n",
    "    ids = []\n",
    "    for j,row1 in stops.iterrows():\n",
    "\n",
    "        lat1 = radians(row['Lattitude'])     #Latitude of property\n",
    "        lon1 = radians(row['Longtitude'])    #longitude of property\n",
    "        lat2 = radians(row1['stop_lat'])      #Latitude of station\n",
    "        lon2 = radians(row1['stop_lon'])     #Longitude of station\n",
    "\n",
    "        dlon = lon2 - lon1\n",
    "        dlat = lat2 - lat1\n",
    "\n",
    "        a = sin(dlat / 2)**2 + cos(lat1) * cos(lat2) * sin(dlon / 2)**2\n",
    "        c = 2 * atan2(sqrt(a), sqrt(1 - a))\n",
    "        \n",
    "    \n",
    "        ids.append(row1['stop_id'])\n",
    "        distance.append(R * c)              #Appending every distance to the list\n",
    "    \n",
    "    min_dist = min(distance)\n",
    "    houses['distance_to_train_station'].loc[i] = min_dist*1000  #Assigning the minimum distance to the column \n",
    "    train_st_id = ids[distance.index(min_dist)]\n",
    "    houses['train_station_id'].loc[i] = train_st_id             #Assigning the corresponding station id to the column\n",
    "houses.head()"
   ]
  },
  {
   "cell_type": "markdown",
   "metadata": {},
   "source": [
    "### Calculating Average time to Southern cross\n",
    "Inorder to calculate travel_min_to_CBD, we use the dictionary southern_cross_trips for the arrival times at southern cross in each trip. We also use time_to_sc column which stores the time in minutes from each styation to southern cross.\n",
    "We initialize two variable total_time and num_of_trips to 0. We add up the values from the column time_to_sc in each trip to total_time and increment the num_of_trips by 1 to further calculate the average time to travel to Southern cross by dividing the both and assining the value to travel_min_to_CBD."
   ]
  },
  {
   "cell_type": "code",
   "execution_count": 18,
   "metadata": {},
   "outputs": [
    {
     "data": {
      "text/html": [
       "<div>\n",
       "<style scoped>\n",
       "    .dataframe tbody tr th:only-of-type {\n",
       "        vertical-align: middle;\n",
       "    }\n",
       "\n",
       "    .dataframe tbody tr th {\n",
       "        vertical-align: top;\n",
       "    }\n",
       "\n",
       "    .dataframe thead th {\n",
       "        text-align: right;\n",
       "    }\n",
       "</style>\n",
       "<table border=\"1\" class=\"dataframe\">\n",
       "  <thead>\n",
       "    <tr style=\"text-align: right;\">\n",
       "      <th></th>\n",
       "      <th>ID</th>\n",
       "      <th>Address</th>\n",
       "      <th>Rooms</th>\n",
       "      <th>Type</th>\n",
       "      <th>Price</th>\n",
       "      <th>Date</th>\n",
       "      <th>Bathroom</th>\n",
       "      <th>Car</th>\n",
       "      <th>Landsize</th>\n",
       "      <th>Age</th>\n",
       "      <th>Lattitude</th>\n",
       "      <th>Longtitude</th>\n",
       "      <th>Suburb</th>\n",
       "      <th>train_station_id</th>\n",
       "      <th>distance_to_train_station</th>\n",
       "      <th>travel_min_to_CBD</th>\n",
       "    </tr>\n",
       "  </thead>\n",
       "  <tbody>\n",
       "    <tr>\n",
       "      <td>0</td>\n",
       "      <td>ID441936550</td>\n",
       "      <td>414/99 Dow St</td>\n",
       "      <td>2</td>\n",
       "      <td>u</td>\n",
       "      <td>845000.0</td>\n",
       "      <td>7/05/2016</td>\n",
       "      <td>2.0</td>\n",
       "      <td>2.0</td>\n",
       "      <td>2166.0</td>\n",
       "      <td>29.0</td>\n",
       "      <td>-37.84150</td>\n",
       "      <td>144.94120</td>\n",
       "      <td>PORT MELBOURNE</td>\n",
       "      <td>20043</td>\n",
       "      <td>2764.295334</td>\n",
       "      <td>0.000000</td>\n",
       "    </tr>\n",
       "    <tr>\n",
       "      <td>1</td>\n",
       "      <td>ID874566543</td>\n",
       "      <td>30 Cedar St</td>\n",
       "      <td>2</td>\n",
       "      <td>h</td>\n",
       "      <td>1001000.0</td>\n",
       "      <td>26/07/2016</td>\n",
       "      <td>2.0</td>\n",
       "      <td>1.0</td>\n",
       "      <td>255.0</td>\n",
       "      <td>129.0</td>\n",
       "      <td>-37.88870</td>\n",
       "      <td>145.02070</td>\n",
       "      <td>CAULFIELD SOUTH</td>\n",
       "      <td>19953</td>\n",
       "      <td>1703.266867</td>\n",
       "      <td>15.555556</td>\n",
       "    </tr>\n",
       "    <tr>\n",
       "      <td>2</td>\n",
       "      <td>ID483823554</td>\n",
       "      <td>5a Compton St</td>\n",
       "      <td>2</td>\n",
       "      <td>u</td>\n",
       "      <td>695000.0</td>\n",
       "      <td>27/05/2017</td>\n",
       "      <td>1.0</td>\n",
       "      <td>1.0</td>\n",
       "      <td>300.0</td>\n",
       "      <td>8.0</td>\n",
       "      <td>-37.80574</td>\n",
       "      <td>145.18832</td>\n",
       "      <td>MITCHAM</td>\n",
       "      <td>19900</td>\n",
       "      <td>1403.129566</td>\n",
       "      <td>31.515152</td>\n",
       "    </tr>\n",
       "    <tr>\n",
       "      <td>3</td>\n",
       "      <td>ID591113817</td>\n",
       "      <td>4/287 Albion St</td>\n",
       "      <td>1</td>\n",
       "      <td>h</td>\n",
       "      <td>412000.0</td>\n",
       "      <td>8/04/2017</td>\n",
       "      <td>1.0</td>\n",
       "      <td>1.0</td>\n",
       "      <td>85.0</td>\n",
       "      <td>119.0</td>\n",
       "      <td>-37.75980</td>\n",
       "      <td>144.95630</td>\n",
       "      <td>BRUNSWICK</td>\n",
       "      <td>19967</td>\n",
       "      <td>417.877937</td>\n",
       "      <td>5.266667</td>\n",
       "    </tr>\n",
       "    <tr>\n",
       "      <td>4</td>\n",
       "      <td>ID531857796</td>\n",
       "      <td>1 Ashdown Ct</td>\n",
       "      <td>3</td>\n",
       "      <td>h</td>\n",
       "      <td>671000.0</td>\n",
       "      <td>26/08/2017</td>\n",
       "      <td>1.0</td>\n",
       "      <td>2.0</td>\n",
       "      <td>418.0</td>\n",
       "      <td>89.0</td>\n",
       "      <td>-37.66349</td>\n",
       "      <td>145.03391</td>\n",
       "      <td>LALOR</td>\n",
       "      <td>20005</td>\n",
       "      <td>1280.233751</td>\n",
       "      <td>14.089172</td>\n",
       "    </tr>\n",
       "  </tbody>\n",
       "</table>\n",
       "</div>"
      ],
      "text/plain": [
       "            ID          Address  Rooms Type      Price        Date  Bathroom  \\\n",
       "0  ID441936550    414/99 Dow St      2    u   845000.0   7/05/2016       2.0   \n",
       "1  ID874566543      30 Cedar St      2    h  1001000.0  26/07/2016       2.0   \n",
       "2  ID483823554    5a Compton St      2    u   695000.0  27/05/2017       1.0   \n",
       "3  ID591113817  4/287 Albion St      1    h   412000.0   8/04/2017       1.0   \n",
       "4  ID531857796     1 Ashdown Ct      3    h   671000.0  26/08/2017       1.0   \n",
       "\n",
       "   Car  Landsize    Age  Lattitude  Longtitude           Suburb  \\\n",
       "0  2.0    2166.0   29.0  -37.84150   144.94120   PORT MELBOURNE   \n",
       "1  1.0     255.0  129.0  -37.88870   145.02070  CAULFIELD SOUTH   \n",
       "2  1.0     300.0    8.0  -37.80574   145.18832          MITCHAM   \n",
       "3  1.0      85.0  119.0  -37.75980   144.95630        BRUNSWICK   \n",
       "4  2.0     418.0   89.0  -37.66349   145.03391            LALOR   \n",
       "\n",
       "   train_station_id  distance_to_train_station  travel_min_to_CBD  \n",
       "0             20043                2764.295334           0.000000  \n",
       "1             19953                1703.266867          15.555556  \n",
       "2             19900                1403.129566          31.515152  \n",
       "3             19967                 417.877937           5.266667  \n",
       "4             20005                1280.233751          14.089172  "
      ]
     },
     "execution_count": 18,
     "metadata": {},
     "output_type": "execute_result"
    }
   ],
   "source": [
    "# Assingning initial value to the column\n",
    "houses['travel_min_to_CBD'] = -1\n",
    "for i,row in houses.iterrows():\n",
    "    total_time = 0              # Sum of total minutes from each station to southern cross\n",
    "    num_of_trips = 0            #Count\n",
    "    for j,row1 in trips[trips['stop_id'] == row['train_station_id']].iterrows():\n",
    "        total_time+=row1['time_to_sc']\n",
    "        num_of_trips += 1\n",
    "    if(num_of_trips != 0):\n",
    "        houses['travel_min_to_CBD'].loc[i] = total_time/num_of_trips    # Average time to CBD\n",
    "houses.head()"
   ]
  },
  {
   "cell_type": "markdown",
   "metadata": {},
   "source": [
    "## Web Scraping for school details\n",
    "\n",
    "For the fields related to primary and secondary schools, we have been provided with two websites.\n",
    "\n",
    "Primary School details - http://www.schoolcatchment.com.au/?p=12301\n",
    "\n",
    "Secondary School details - https://sites.google.com/a/monash.edu/secondary-school-ranking/\n",
    "\n",
    "We need to crawl the two websites above in order to extract school names and their rankings.\n",
    "\n",
    "We start with extracting primary school details as follows:\n",
    "\n",
    "- We create a BeautifulSoup object `bsobj`.\n",
    "- We extract all the information under the attribute class `row-hower` and `column-1` for primary school ranks and append to the list `ranks_primary`.\n",
    "- We extract all the information under the attribute class `row-hower` and `column-2` for primary school names and append to the list `names_primary`.\n",
    "- We ensure that if there are repeating names in the list, they hold the lowest ranking for that particular school.\n",
    "- We create a dictionary `d_prim` which holds the primary school name as key and lowest ranking as the value."
   ]
  },
  {
   "cell_type": "code",
   "execution_count": 19,
   "metadata": {},
   "outputs": [],
   "source": [
    "##Dictionary of Primary Schools with rankings\n",
    "\n",
    "html = urlopen(\"http://www.schoolcatchment.com.au/?p=12301\")\n",
    "bsobj = BeautifulSoup(html, 'html.parser')\n",
    "\n",
    "\n",
    "ranks_primary = []\n",
    "names_primary = []\n",
    "for x in bsobj.find(class_ = 'row-hover').findAll(class_ = 'column-1'):\n",
    "    ranks_primary.append(int(x.contents[0]))\n",
    "for y in bsobj.find(class_ = 'row-hover').findAll(class_ = 'column-2'):\n",
    "    names_primary.append(y.contents[0])\n",
    "    \n",
    "#Dictionary of Primary school with names and rank\n",
    "#primary_schools = {}\n",
    "for i in range(0,len(names_primary)):              #Setting all ranks of following entries as the lowest rank\n",
    "    for j in range(i+1,len(names_primary)):\n",
    "        if names_primary[i] == names_primary[j]:\n",
    "            ranks_primary[j] = ranks_primary[i]\n",
    "d_prim= dict(zip(names_primary,ranks_primary))\n"
   ]
  },
  {
   "cell_type": "markdown",
   "metadata": {},
   "source": [
    "We repeat the same procedure for secondary school details. Here there is an additional step of sort the ranks as the information is unordered.\n",
    "\n",
    "We start with extracting secondary school details as follows:\n",
    "\n",
    "- We create a BeautifulSoup object `bsobj`.\n",
    "- We extract all the information under the tag `li` and use the regex `<li>\\n<div>.*?</div>\\n<div>(-?\\d*%?)?</div>\\n` to extract the ranks. This regex only takes those fields in the div tag which appears second in the list of div tags.The ranks are appended to the list `ranks_sec`.\n",
    "- We extract all the information under the tag `li` and use the regex `<li>\\n<div>(.+?)</div>` to extract names. This regex only reads the first div field. The names are appeneded to the list `names_sec`.\n",
    "- We then sort the list `ranks_sec` in ascending order and also arrange the list `names_sec` accordingly.\n",
    "- We ensure that if there are repeating names in the list, they hold the lowest ranking for that particular school.\n",
    "- We create a dictionary `d_sec` which holds the primary school name as key and lowest ranking as the value.\n",
    "\n",
    "#### Note: The source code fro secondary schools was saved in the file Secondary_schools.html because the webpage requires login."
   ]
  },
  {
   "cell_type": "code",
   "execution_count": 20,
   "metadata": {},
   "outputs": [],
   "source": [
    "#Dictionary of Secondary Schools with rankings\n",
    "\n",
    "f = codecs.open(\"Secondary_schools.html\", 'r', 'utf-8')\n",
    "bsobj1 = BeautifulSoup(f, 'html.parser')\n",
    "\n",
    "r_obj = bsobj1.findAll('li')\n",
    "ranks_sec = re.findall('<li>\\n<div>.*?</div>\\n<div>(-?\\d*%?)?</div>\\n',str(r_obj))\n",
    "ranks_sec = list(map(int,ranks_sec))    \n",
    "\n",
    "names_sec = re.findall('<li>\\n<div>(.+?)</div>',str(r_obj))\n",
    "\n",
    "for i in range(0,len(ranks_sec)):\n",
    "    for j in range(0,len(ranks_sec)-i-1):\n",
    "        if ranks_sec[j] > ranks_sec[j+1]:\n",
    "            temp1 = ranks_sec[j]\n",
    "            ranks_sec[j] = ranks_sec[j+1]\n",
    "            ranks_sec[j+1] = temp1\n",
    "            temp2 = names_sec[j]\n",
    "            names_sec[j] = names_sec[j+1]\n",
    "            names_sec[j+1] = temp2\n",
    "for i in range(0,len(names_sec)):              #Setting all ranks of following entries as the lowest rank\n",
    "    for j in range(i+1,len(names_sec)):\n",
    "        if names_sec[i] == names_sec[j]:\n",
    "            ranks_sec[j] = ranks_sec[i]\n",
    "            \n",
    "d_sec = dict(zip(names_sec,ranks_sec))\n",
    "\n",
    "\n",
    "\n"
   ]
  },
  {
   "cell_type": "markdown",
   "metadata": {},
   "source": [
    "### Calculating distance from property to the closest school\n",
    "\n",
    "We follow the steps given below to achieve this:  \n",
    "\n",
    "- We first create a dataframe consisting of all schools, with their corresponding school type and coordinates. We extract these values from `schools.xml` file using regex expressions for each of the tags. After extracting, we convert latitude and longitude into the appropriate datatype. The end result is the dataframe `schools_df`.\n"
   ]
  },
  {
   "cell_type": "code",
   "execution_count": 21,
   "metadata": {},
   "outputs": [
    {
     "data": {
      "text/html": [
       "<div>\n",
       "<style scoped>\n",
       "    .dataframe tbody tr th:only-of-type {\n",
       "        vertical-align: middle;\n",
       "    }\n",
       "\n",
       "    .dataframe tbody tr th {\n",
       "        vertical-align: top;\n",
       "    }\n",
       "\n",
       "    .dataframe thead th {\n",
       "        text-align: right;\n",
       "    }\n",
       "</style>\n",
       "<table border=\"1\" class=\"dataframe\">\n",
       "  <thead>\n",
       "    <tr style=\"text-align: right;\">\n",
       "      <th></th>\n",
       "      <th>school_name</th>\n",
       "      <th>School_Type</th>\n",
       "      <th>latitude</th>\n",
       "      <th>longitude</th>\n",
       "    </tr>\n",
       "  </thead>\n",
       "  <tbody>\n",
       "    <tr>\n",
       "      <td>0</td>\n",
       "      <td>Alberton Primary School</td>\n",
       "      <td>Primary</td>\n",
       "      <td>-38.617713</td>\n",
       "      <td>146.666601</td>\n",
       "    </tr>\n",
       "    <tr>\n",
       "      <td>1</td>\n",
       "      <td>Allansford and District Primary School</td>\n",
       "      <td>Primary</td>\n",
       "      <td>-38.386281</td>\n",
       "      <td>142.590393</td>\n",
       "    </tr>\n",
       "    <tr>\n",
       "      <td>2</td>\n",
       "      <td>Avoca Primary School</td>\n",
       "      <td>Primary</td>\n",
       "      <td>-37.084502</td>\n",
       "      <td>143.475649</td>\n",
       "    </tr>\n",
       "    <tr>\n",
       "      <td>3</td>\n",
       "      <td>Avenel Primary School</td>\n",
       "      <td>Primary</td>\n",
       "      <td>-36.901368</td>\n",
       "      <td>145.234722</td>\n",
       "    </tr>\n",
       "    <tr>\n",
       "      <td>4</td>\n",
       "      <td>Warrandyte Primary School</td>\n",
       "      <td>Primary</td>\n",
       "      <td>-37.742675</td>\n",
       "      <td>145.213980</td>\n",
       "    </tr>\n",
       "  </tbody>\n",
       "</table>\n",
       "</div>"
      ],
      "text/plain": [
       "                              school_name School_Type   latitude   longitude\n",
       "0                 Alberton Primary School     Primary -38.617713  146.666601\n",
       "1  Allansford and District Primary School     Primary -38.386281  142.590393\n",
       "2                    Avoca Primary School     Primary -37.084502  143.475649\n",
       "3                   Avenel Primary School     Primary -36.901368  145.234722\n",
       "4               Warrandyte Primary School     Primary -37.742675  145.213980"
      ]
     },
     "execution_count": 21,
     "metadata": {},
     "output_type": "execute_result"
    }
   ],
   "source": [
    "# Creating a dataframe of schools\n",
    "\n",
    "s = codecs.open('schools.xml', 'r', 'utf-8')\n",
    "sobj = BeautifulSoup(s , 'lxml')\n",
    "\n",
    "schools = sobj.find_all('school')\n",
    "cities = []\n",
    "school_name = []\n",
    "longitude = []\n",
    "latitude = []\n",
    "Type = []\n",
    "for school in schools:\n",
    "    school_name.extend(re.findall('<school_name>(.+?)</school_name>',str(school)))\n",
    "    longitude.extend(re.findall('<x>(.+?)</x>',str(school)))\n",
    "    latitude.extend(re.findall('<y>(.+?)</y>',str(school)))\n",
    "    Type.extend(re.findall('<school_type>(.+?)</school_type>',str(school)))\n",
    "#print(len(longitude),len(cities),len(latitude),len(school_name),len(Type))\n",
    "\n",
    "\n",
    "latitude = [float(i) for i in latitude]\n",
    "longitude = [float(i) for i in longitude]\n",
    "for i in range(1,len(cities)):\n",
    "    new_city = re.findall(r'(.*?)\\s\\(',cities[i])\n",
    "    cities[i] = new_city\n",
    "\n",
    "schools_df = pd.DataFrame({'school_name':school_name,'School_Type':Type,'latitude':latitude,'longitude':longitude})\n",
    "schools_df.head()\n",
    "\n",
    "    "
   ]
  },
  {
   "cell_type": "markdown",
   "metadata": {},
   "source": [
    "### Closest Name of Primary Schools along with Distance and Ranking\n",
    "\n",
    "- Adding the necessary columns with default values."
   ]
  },
  {
   "cell_type": "code",
   "execution_count": 22,
   "metadata": {},
   "outputs": [],
   "source": [
    "houses['closest_primary_school'] = 'not available'\n",
    "houses['distance_to_closest_primary'] = -1\n",
    "houses['primary_school_ranking'] = -1\n",
    "houses['closest_secondary_school'] = 'not available'\n",
    "houses['distance_to_closest_secondary'] = -1\n",
    "houses['secondary_school_ranking'] = -1"
   ]
  },
  {
   "cell_type": "markdown",
   "metadata": {},
   "source": [
    "Using the lenght of arc formula, we calculate the distance from properties to the primary schools. The closest one is added to the `houses` dataframe along with the distance and ranking."
   ]
  },
  {
   "cell_type": "code",
   "execution_count": 23,
   "metadata": {},
   "outputs": [],
   "source": [
    "R = 6378.0\n",
    "\n",
    "for i,row in houses.iterrows():\n",
    "    distance_p = []\n",
    "    rank_p = []\n",
    "    name_p = []\n",
    "    \n",
    "    for j,row1 in schools_df.iterrows():\n",
    "        \n",
    "        type_school = row1['School_Type'] \n",
    "        \n",
    "        if type_school == 'Primary':\n",
    "            if row1['school_name'] in names_primary: \n",
    "\n",
    "                lat1 = radians(row['Lattitude'])\n",
    "                lon1 = radians(row['Longtitude'])\n",
    "                lat2 = radians(row1['latitude'])\n",
    "                lon2 = radians(row1['longitude'])\n",
    "                dlon = lon2 - lon1\n",
    "                dlat = lat2 - lat1\n",
    "                a = sin(dlat / 2)**2 + cos(lat1) * cos(lat2) * sin(dlon / 2)**2\n",
    "                c = 2 * atan2(sqrt(a), sqrt(1 - a))\n",
    "                d_p  = R * c\n",
    "\n",
    "                distance_p.append(d_p)\n",
    "                name_p.append(row1['school_name'])\n",
    "                rank_p.append(d_prim[row1['school_name']])\n",
    "            \n",
    "    min_dist_p = min(distance_p)\n",
    "    idx = distance_p.index(min_dist_p)\n",
    "        \n",
    "    houses['distance_to_closest_primary'].loc[i] = min_dist_p*1000\n",
    "    houses['closest_primary_school'].loc[i] = name_p[idx] \n",
    "    houses['primary_school_ranking'].loc[i] = rank_p[idx]   "
   ]
  },
  {
   "cell_type": "markdown",
   "metadata": {},
   "source": [
    "### Closest Name of Secondary Schools along with Distance and Ranking"
   ]
  },
  {
   "cell_type": "markdown",
   "metadata": {},
   "source": [
    "Using the lenght of arc formula, we calculate the distance from properties to the secondary schools. The closest one is added to the `houses` dataframe along with the distance and ranking."
   ]
  },
  {
   "cell_type": "code",
   "execution_count": 24,
   "metadata": {
    "scrolled": true
   },
   "outputs": [],
   "source": [
    "R = 6378.0\n",
    "\n",
    "for i,row in houses.iterrows():\n",
    "    distance_s = []\n",
    "    rank_s = []\n",
    "    name_s = []\n",
    "    \n",
    "    for j,row1 in schools_df.iterrows():\n",
    "        \n",
    "        type_school = row1['School_Type'] \n",
    "        \n",
    "        if type_school == 'Secondary':\n",
    "            if row1['school_name'] in names_sec: \n",
    "\n",
    "                lat1 = radians(row['Lattitude'])\n",
    "                lon1 = radians(row['Longtitude'])\n",
    "                lat2 = radians(row1['latitude'])\n",
    "                lon2 = radians(row1['longitude'])\n",
    "                dlon = lon2 - lon1\n",
    "                dlat = lat2 - lat1\n",
    "                a = sin(dlat / 2)**2 + cos(lat1) * cos(lat2) * sin(dlon / 2)**2\n",
    "                c = 2 * atan2(sqrt(a), sqrt(1 - a))\n",
    "                d_s  = R * c\n",
    "\n",
    "                distance_s.append(d_s)\n",
    "                name_s.append(row1['school_name'])\n",
    "                rank_s.append(d_sec[row1['school_name']])\n",
    "            \n",
    "    min_dist_s = min(distance_s)\n",
    "    idx = distance_s.index(min_dist_s)\n",
    "        \n",
    "    houses['distance_to_closest_secondary'].loc[i] = min_dist_s*1000\n",
    "    houses['closest_secondary_school'].loc[i] = name_s[idx] \n",
    "    houses['secondary_school_ranking'].loc[i] = rank_s[idx]\n",
    "    \n"
   ]
  },
  {
   "cell_type": "markdown",
   "metadata": {},
   "source": [
    "### Crimes \n",
    "\n",
    "For the crimes dataset provided, some initial processing needs to be done as follows:"
   ]
  },
  {
   "cell_type": "code",
   "execution_count": 25,
   "metadata": {},
   "outputs": [
    {
     "data": {
      "text/html": [
       "<div>\n",
       "<style scoped>\n",
       "    .dataframe tbody tr th:only-of-type {\n",
       "        vertical-align: middle;\n",
       "    }\n",
       "\n",
       "    .dataframe tbody tr th {\n",
       "        vertical-align: top;\n",
       "    }\n",
       "\n",
       "    .dataframe thead th {\n",
       "        text-align: right;\n",
       "    }\n",
       "</style>\n",
       "<table border=\"1\" class=\"dataframe\">\n",
       "  <thead>\n",
       "    <tr style=\"text-align: right;\">\n",
       "      <th></th>\n",
       "      <th>Apr - Mar reference period</th>\n",
       "      <th>Police Region</th>\n",
       "      <th>Police Service Area</th>\n",
       "      <th>Local Government Area</th>\n",
       "      <th>CSA Offence Division</th>\n",
       "      <th>CSA Offence Subdivision</th>\n",
       "      <th>Offence Count</th>\n",
       "      <th>LGA ERP</th>\n",
       "      <th>Victorian ERP</th>\n",
       "    </tr>\n",
       "  </thead>\n",
       "  <tbody>\n",
       "    <tr>\n",
       "      <td>0</td>\n",
       "      <td>2012</td>\n",
       "      <td>1 North West Metro</td>\n",
       "      <td>BANYULE</td>\n",
       "      <td>BANYULE</td>\n",
       "      <td>A Crimes against the person</td>\n",
       "      <td>A10 Homicide and related offences</td>\n",
       "      <td>4</td>\n",
       "      <td>123600</td>\n",
       "      <td>5632521</td>\n",
       "    </tr>\n",
       "    <tr>\n",
       "      <td>1</td>\n",
       "      <td>2012</td>\n",
       "      <td>1 North West Metro</td>\n",
       "      <td>BANYULE</td>\n",
       "      <td>BANYULE</td>\n",
       "      <td>A Crimes against the person</td>\n",
       "      <td>A20 Assault and related offences</td>\n",
       "      <td>568</td>\n",
       "      <td>123600</td>\n",
       "      <td>5632521</td>\n",
       "    </tr>\n",
       "    <tr>\n",
       "      <td>2</td>\n",
       "      <td>2012</td>\n",
       "      <td>1 North West Metro</td>\n",
       "      <td>BANYULE</td>\n",
       "      <td>BANYULE</td>\n",
       "      <td>A Crimes against the person</td>\n",
       "      <td>A30 Sexual offences</td>\n",
       "      <td>132</td>\n",
       "      <td>123600</td>\n",
       "      <td>5632521</td>\n",
       "    </tr>\n",
       "    <tr>\n",
       "      <td>3</td>\n",
       "      <td>2012</td>\n",
       "      <td>1 North West Metro</td>\n",
       "      <td>BANYULE</td>\n",
       "      <td>BANYULE</td>\n",
       "      <td>A Crimes against the person</td>\n",
       "      <td>A40 Abduction and related offences</td>\n",
       "      <td>12</td>\n",
       "      <td>123600</td>\n",
       "      <td>5632521</td>\n",
       "    </tr>\n",
       "    <tr>\n",
       "      <td>4</td>\n",
       "      <td>2012</td>\n",
       "      <td>1 North West Metro</td>\n",
       "      <td>BANYULE</td>\n",
       "      <td>BANYULE</td>\n",
       "      <td>A Crimes against the person</td>\n",
       "      <td>A50 Robbery</td>\n",
       "      <td>46</td>\n",
       "      <td>123600</td>\n",
       "      <td>5632521</td>\n",
       "    </tr>\n",
       "  </tbody>\n",
       "</table>\n",
       "</div>"
      ],
      "text/plain": [
       "0 Apr - Mar reference period       Police Region Police Service Area  \\\n",
       "0                       2012  1 North West Metro             BANYULE   \n",
       "1                       2012  1 North West Metro             BANYULE   \n",
       "2                       2012  1 North West Metro             BANYULE   \n",
       "3                       2012  1 North West Metro             BANYULE   \n",
       "4                       2012  1 North West Metro             BANYULE   \n",
       "\n",
       "0 Local Government Area         CSA Offence Division  \\\n",
       "0               BANYULE  A Crimes against the person   \n",
       "1               BANYULE  A Crimes against the person   \n",
       "2               BANYULE  A Crimes against the person   \n",
       "3               BANYULE  A Crimes against the person   \n",
       "4               BANYULE  A Crimes against the person   \n",
       "\n",
       "0             CSA Offence Subdivision Offence Count LGA ERP Victorian ERP  \n",
       "0   A10 Homicide and related offences             4  123600       5632521  \n",
       "1    A20 Assault and related offences           568  123600       5632521  \n",
       "2                 A30 Sexual offences           132  123600       5632521  \n",
       "3  A40 Abduction and related offences            12  123600       5632521  \n",
       "4                         A50 Robbery            46  123600       5632521  "
      ]
     },
     "execution_count": 25,
     "metadata": {},
     "output_type": "execute_result"
    }
   ],
   "source": [
    "#Loading and restructuring the dataframe for Crimes\n",
    "\n",
    "xls = pd.ExcelFile('crimebylocationdatatable-yearending31march2016.xlsx')\n",
    "crimes = pd.read_excel(xls, 'Table 1')      #Access Table 1 within the excel file\n",
    "crimes = crimes.iloc[18:,1:]              #Remove the initial 18 rows that have empty cells\n",
    "crimes = crimes.reset_index(drop=True)    #Reset index\n",
    "crimes.columns = crimes.loc[0]           #Set the first row as the column names\n",
    "crimes = crimes.drop(0)                   #Delete first row\n",
    "crimes = crimes.reset_index(drop=True)    #Reset index\n",
    "crimes.head()   "
   ]
  },
  {
   "cell_type": "code",
   "execution_count": 26,
   "metadata": {},
   "outputs": [],
   "source": [
    "houses[\"Date\"] = pd.to_datetime(houses[\"Date\"],format= '%d/%m/%Y').dt.date   #Converting date column from houses dataframe to datetime"
   ]
  },
  {
   "cell_type": "markdown",
   "metadata": {},
   "source": [
    "We follow the given steps to add the values of `crime_A_average`, `crime_B_average` and `crime_C_average`:\n",
    "\n",
    "- We first create the 3 columns with default values -1.\n",
    "- We initialize the dictionary councils which holds the areas as keys and the list of suburbs as values.\n",
    "- Interating through the houses dataframe, we get the year of sale for every row, and find the `min_date` and `max_date`, i.e., the years between which the average offence counts have to be calculated.\n",
    "- We extract the subset of rows from crimes table for the years required and for the given area where the property is. We find the area of the property by searching for it from the `councils` dictionary.\n",
    "- We count the number of entries for each category `A`, `B` and `C` and also sum their offence counts.\n",
    "- Assign the average offence count(offence count/number of entries) for the corresponsing columns."
   ]
  },
  {
   "cell_type": "code",
   "execution_count": 27,
   "metadata": {
    "scrolled": true
   },
   "outputs": [],
   "source": [
    "# Creating dictionary of cities with suburbs\n",
    "councils = {}\n",
    "with open(\"councils.txt\") as f:      #initialize the dictionary councils\n",
    "    for line in f:\n",
    "        (key, val) = line.strip('\\n').split(':')\n",
    "        councils[key] = val\n",
    "\n",
    "houses['crime_A_average'] = -1       #Creating the columns with default value\n",
    "houses['crime_B_average'] = -1\n",
    "houses['crime_C_average'] = -1\n",
    "\n",
    "for i,row in houses.iterrows():\n",
    "    suburb = row['Suburb']\n",
    "    max_date = row['Date'].year - 1      # find the min_date and max_date\n",
    "    min_date = row['Date'].year - 3\n",
    "    for j in councils:\n",
    "        if suburb in councils[j].upper():     \n",
    "            area = j\n",
    "    crimes_by_year = crimes[((crimes['Apr - Mar reference period']>= min_date) & (crimes['Apr - Mar reference period'] <= max_date))]\n",
    "    crimes_by_area = crimes_by_year[crimes_by_year['Local Government Area'] == area.strip()] #extract the subset of rows from crimes table\n",
    "    count_a = 0\n",
    "    count_b = 0\n",
    "    count_c = 0\n",
    "    offence_count_a = 0\n",
    "    offence_count_b = 0\n",
    "    offence_count_c = 0\n",
    "    \n",
    "    for k,row1 in crimes_by_area.iterrows():\n",
    "        if(row1['CSA Offence Division'].startswith('A')):\n",
    "            count_a += 1\n",
    "            offence_count_a += row1['Offence Count']\n",
    "        elif(row1['CSA Offence Division'].startswith('B')):\n",
    "            count_b += 1\n",
    "            offence_count_b += row1['Offence Count']\n",
    "        elif(row1['CSA Offence Division'].startswith('C')):\n",
    "            count_c += 1\n",
    "            offence_count_c += row1['Offence Count']\n",
    "    houses['crime_B_average'].loc[i] = offence_count_b/count_b\n",
    "    houses['crime_A_average'].loc[i] = offence_count_a/count_a\n",
    "    houses['crime_C_average'].loc[i] = offence_count_c/count_c\n"
   ]
  },
  {
   "cell_type": "markdown",
   "metadata": {},
   "source": [
    "### OverPriced\n",
    "\n",
    "In order to find whether the property is overpriced, we find the median of all properties matching a given property and check whether the price is higher or lower than the median. The value of the column is True if the price is higher than the median and False otherwise."
   ]
  },
  {
   "cell_type": "code",
   "execution_count": 28,
   "metadata": {},
   "outputs": [
    {
     "data": {
      "text/html": [
       "<div>\n",
       "<style scoped>\n",
       "    .dataframe tbody tr th:only-of-type {\n",
       "        vertical-align: middle;\n",
       "    }\n",
       "\n",
       "    .dataframe tbody tr th {\n",
       "        vertical-align: top;\n",
       "    }\n",
       "\n",
       "    .dataframe thead th {\n",
       "        text-align: right;\n",
       "    }\n",
       "</style>\n",
       "<table border=\"1\" class=\"dataframe\">\n",
       "  <thead>\n",
       "    <tr style=\"text-align: right;\">\n",
       "      <th></th>\n",
       "      <th>ID</th>\n",
       "      <th>Address</th>\n",
       "      <th>Rooms</th>\n",
       "      <th>Type</th>\n",
       "      <th>Price</th>\n",
       "      <th>Date</th>\n",
       "      <th>Bathroom</th>\n",
       "      <th>Car</th>\n",
       "      <th>Landsize</th>\n",
       "      <th>Age</th>\n",
       "      <th>...</th>\n",
       "      <th>closest_primary_school</th>\n",
       "      <th>distance_to_closest_primary</th>\n",
       "      <th>primary_school_ranking</th>\n",
       "      <th>closest_secondary_school</th>\n",
       "      <th>distance_to_closest_secondary</th>\n",
       "      <th>secondary_school_ranking</th>\n",
       "      <th>crime_A_average</th>\n",
       "      <th>crime_B_average</th>\n",
       "      <th>crime_C_average</th>\n",
       "      <th>over_priced?</th>\n",
       "    </tr>\n",
       "  </thead>\n",
       "  <tbody>\n",
       "    <tr>\n",
       "      <td>0</td>\n",
       "      <td>ID441936550</td>\n",
       "      <td>414/99 Dow St</td>\n",
       "      <td>2</td>\n",
       "      <td>u</td>\n",
       "      <td>845000.0</td>\n",
       "      <td>2016-05-07</td>\n",
       "      <td>2.0</td>\n",
       "      <td>2.0</td>\n",
       "      <td>2166.0</td>\n",
       "      <td>29.0</td>\n",
       "      <td>...</td>\n",
       "      <td>Port Melbourne Primary School</td>\n",
       "      <td>945.937127</td>\n",
       "      <td>325</td>\n",
       "      <td>Albert Park College</td>\n",
       "      <td>654.065212</td>\n",
       "      <td>131</td>\n",
       "      <td>85.956522</td>\n",
       "      <td>1043.866667</td>\n",
       "      <td>112.777778</td>\n",
       "      <td>False</td>\n",
       "    </tr>\n",
       "    <tr>\n",
       "      <td>1</td>\n",
       "      <td>ID874566543</td>\n",
       "      <td>30 Cedar St</td>\n",
       "      <td>2</td>\n",
       "      <td>h</td>\n",
       "      <td>1001000.0</td>\n",
       "      <td>2016-07-26</td>\n",
       "      <td>2.0</td>\n",
       "      <td>1.0</td>\n",
       "      <td>255.0</td>\n",
       "      <td>129.0</td>\n",
       "      <td>...</td>\n",
       "      <td>Caulfield Primary School</td>\n",
       "      <td>92.884513</td>\n",
       "      <td>99</td>\n",
       "      <td>Glen Eira College</td>\n",
       "      <td>1556.642054</td>\n",
       "      <td>215</td>\n",
       "      <td>200.956522</td>\n",
       "      <td>1136.687500</td>\n",
       "      <td>143.300000</td>\n",
       "      <td>True</td>\n",
       "    </tr>\n",
       "    <tr>\n",
       "      <td>2</td>\n",
       "      <td>ID483823554</td>\n",
       "      <td>5a Compton St</td>\n",
       "      <td>2</td>\n",
       "      <td>u</td>\n",
       "      <td>695000.0</td>\n",
       "      <td>2017-05-27</td>\n",
       "      <td>1.0</td>\n",
       "      <td>1.0</td>\n",
       "      <td>300.0</td>\n",
       "      <td>8.0</td>\n",
       "      <td>...</td>\n",
       "      <td>Mitcham Primary School</td>\n",
       "      <td>529.381944</td>\n",
       "      <td>180</td>\n",
       "      <td>Blackburn High School</td>\n",
       "      <td>3418.658473</td>\n",
       "      <td>216</td>\n",
       "      <td>183.875000</td>\n",
       "      <td>1454.937500</td>\n",
       "      <td>194.916667</td>\n",
       "      <td>True</td>\n",
       "    </tr>\n",
       "    <tr>\n",
       "      <td>3</td>\n",
       "      <td>ID591113817</td>\n",
       "      <td>4/287 Albion St</td>\n",
       "      <td>1</td>\n",
       "      <td>h</td>\n",
       "      <td>412000.0</td>\n",
       "      <td>2017-04-08</td>\n",
       "      <td>1.0</td>\n",
       "      <td>1.0</td>\n",
       "      <td>85.0</td>\n",
       "      <td>119.0</td>\n",
       "      <td>...</td>\n",
       "      <td>St Margaret Mary's School</td>\n",
       "      <td>1059.681960</td>\n",
       "      <td>483</td>\n",
       "      <td>Sydney Road Community School</td>\n",
       "      <td>1205.499650</td>\n",
       "      <td>447</td>\n",
       "      <td>111.500000</td>\n",
       "      <td>355.933333</td>\n",
       "      <td>60.333333</td>\n",
       "      <td>True</td>\n",
       "    </tr>\n",
       "    <tr>\n",
       "      <td>4</td>\n",
       "      <td>ID531857796</td>\n",
       "      <td>1 Ashdown Ct</td>\n",
       "      <td>3</td>\n",
       "      <td>h</td>\n",
       "      <td>671000.0</td>\n",
       "      <td>2017-08-26</td>\n",
       "      <td>1.0</td>\n",
       "      <td>2.0</td>\n",
       "      <td>418.0</td>\n",
       "      <td>89.0</td>\n",
       "      <td>...</td>\n",
       "      <td>St Peter's School</td>\n",
       "      <td>1546.542145</td>\n",
       "      <td>345</td>\n",
       "      <td>St Monica's College</td>\n",
       "      <td>950.403728</td>\n",
       "      <td>250</td>\n",
       "      <td>177.478261</td>\n",
       "      <td>1281.733333</td>\n",
       "      <td>207.500000</td>\n",
       "      <td>False</td>\n",
       "    </tr>\n",
       "  </tbody>\n",
       "</table>\n",
       "<p>5 rows × 26 columns</p>\n",
       "</div>"
      ],
      "text/plain": [
       "            ID          Address  Rooms Type      Price        Date  Bathroom  \\\n",
       "0  ID441936550    414/99 Dow St      2    u   845000.0  2016-05-07       2.0   \n",
       "1  ID874566543      30 Cedar St      2    h  1001000.0  2016-07-26       2.0   \n",
       "2  ID483823554    5a Compton St      2    u   695000.0  2017-05-27       1.0   \n",
       "3  ID591113817  4/287 Albion St      1    h   412000.0  2017-04-08       1.0   \n",
       "4  ID531857796     1 Ashdown Ct      3    h   671000.0  2017-08-26       1.0   \n",
       "\n",
       "   Car  Landsize    Age  ...         closest_primary_school  \\\n",
       "0  2.0    2166.0   29.0  ...  Port Melbourne Primary School   \n",
       "1  1.0     255.0  129.0  ...       Caulfield Primary School   \n",
       "2  1.0     300.0    8.0  ...         Mitcham Primary School   \n",
       "3  1.0      85.0  119.0  ...      St Margaret Mary's School   \n",
       "4  2.0     418.0   89.0  ...              St Peter's School   \n",
       "\n",
       "   distance_to_closest_primary primary_school_ranking  \\\n",
       "0                   945.937127                    325   \n",
       "1                    92.884513                     99   \n",
       "2                   529.381944                    180   \n",
       "3                  1059.681960                    483   \n",
       "4                  1546.542145                    345   \n",
       "\n",
       "       closest_secondary_school  distance_to_closest_secondary  \\\n",
       "0           Albert Park College                     654.065212   \n",
       "1             Glen Eira College                    1556.642054   \n",
       "2         Blackburn High School                    3418.658473   \n",
       "3  Sydney Road Community School                    1205.499650   \n",
       "4           St Monica's College                     950.403728   \n",
       "\n",
       "   secondary_school_ranking crime_A_average  crime_B_average  crime_C_average  \\\n",
       "0                       131       85.956522      1043.866667       112.777778   \n",
       "1                       215      200.956522      1136.687500       143.300000   \n",
       "2                       216      183.875000      1454.937500       194.916667   \n",
       "3                       447      111.500000       355.933333        60.333333   \n",
       "4                       250      177.478261      1281.733333       207.500000   \n",
       "\n",
       "  over_priced?  \n",
       "0        False  \n",
       "1         True  \n",
       "2         True  \n",
       "3         True  \n",
       "4        False  \n",
       "\n",
       "[5 rows x 26 columns]"
      ]
     },
     "execution_count": 28,
     "metadata": {},
     "output_type": "execute_result"
    }
   ],
   "source": [
    "houses['over_priced?'] = -1\n",
    "for i,row in houses.iterrows():\n",
    "    similar_houses = houses[(houses['Type']==row['Type'])&(houses['Bathroom']==row['Bathroom'])&(houses['Rooms']==row['Rooms'])&(houses['Car']==row['Car'])]\n",
    "    median = similar_houses['Price'].median()\n",
    "    if row['Price'] > median:\n",
    "        houses['over_priced?'].loc[i] = bool(1)\n",
    "    else:\n",
    "        houses['over_priced?'].loc[i] = bool(0)\n",
    "houses.head()"
   ]
  },
  {
   "cell_type": "markdown",
   "metadata": {},
   "source": [
    "### Rearranging the columns as given in the schema"
   ]
  },
  {
   "cell_type": "code",
   "execution_count": 29,
   "metadata": {},
   "outputs": [],
   "source": [
    "cols = ['ID','Address', 'Suburb','Price','Type','Date', 'Rooms','Bathroom', 'Car','Landsize','Age','Lattitude','Longtitude','train_station_id','distance_to_train_station','travel_min_to_CBD','over_priced?','crime_A_average','crime_B_average','crime_C_average','closest_primary_school','distance_to_closest_primary','primary_school_ranking','closest_secondary_school','distance_to_closest_secondary','secondary_school_ranking']\n",
    "houses = houses[cols]\n",
    "houses.columns = ['ID','Address', 'Suburb','Price','Type','Date', 'Rooms','Bathroom', 'Car','Landsize','Age','Latitude','Longitude','train_station_id','distance_to_train_station','travel_min_to_CBD','over_priced?','crime_A_average','crime_B_average','crime_C_average','closest_primary_school','distance_to_closest_primary','primary_school_ranking','closest_secondary_school','distance_to_closest_secondary','secondary_school_ranking']"
   ]
  },
  {
   "cell_type": "markdown",
   "metadata": {},
   "source": [
    "### Writing the dataframe to 'Group014_solution.csv'"
   ]
  },
  {
   "cell_type": "code",
   "execution_count": 30,
   "metadata": {},
   "outputs": [],
   "source": [
    "houses.to_csv('solution.csv',index = False)"
   ]
  },
  {
   "cell_type": "markdown",
   "metadata": {},
   "source": [
    "# Task 2"
   ]
  },
  {
   "cell_type": "markdown",
   "metadata": {},
   "source": [
    "# Log, Square-root and Power transformations\n",
    "\n",
    "We apply math.log(), math.sqrt() and math.pow() functions to the three columns `Room`, `Age` and `crime_C_average`. We cannot apply log() and sqrt() function to the `travel_min_to_CBD` column as there are some rows with 0's. We create new columns for each operation. We follow a naming scheme of `'column_operation'`."
   ]
  },
  {
   "cell_type": "code",
   "execution_count": 31,
   "metadata": {},
   "outputs": [],
   "source": [
    "\n",
    "import math\n",
    "houses['Rooms_log'] = None\n",
    "houses['Rooms_sqrt'] = None\n",
    "houses['Rooms_pow'] = None\n",
    "houses['Age_log'] = None\n",
    "houses['Age_sqrt'] = None\n",
    "houses['Age_pow'] = None\n",
    "houses['travel_min_to_CBD_log'] = None\n",
    "houses['travel_min_to_CBD_sqrt'] = None\n",
    "houses['travel_min_to_CBD_pow'] = None\n",
    "houses['crime_C_average_log'] = None\n",
    "houses['crime_C_average_sqrt'] = None\n",
    "houses['crime_C_average_pow'] = None\n",
    "houses['Price_log'] = None\n",
    "houses['Price_sqrt'] = None\n",
    "houses['Price_pow'] = None\n",
    "for i,row in houses.iterrows():\n",
    "    houses['Rooms_log'].at[i] = math.log(houses[\"Rooms\"][i])\n",
    "    houses['Rooms_sqrt'].at[i] = math.sqrt(houses['Rooms'][i])\n",
    "    houses['Rooms_pow'].at[i] = math.pow(houses['Rooms'][i],2)\n",
    "    houses['Age_log'].at[i] = math.log(houses['Age'][i])\n",
    "    houses['Age_sqrt'].at[i] = math.sqrt(houses['Age'][i])\n",
    "    houses['Age_pow'].at[i] = math.pow(houses['Age'][i],2)\n",
    "    houses['crime_C_average_log'].at[i] =math.log(houses['crime_C_average'][i])\n",
    "    houses['crime_C_average_sqrt'].at[i] =math.sqrt(houses['crime_C_average'][i])\n",
    "    houses['crime_C_average_pow'].at[i] =math.pow(houses['crime_C_average'][i],2)\n",
    "    houses['Price_log'].at[i] = math.log(houses[\"Price\"][i])\n",
    "    houses['Price_sqrt'].at[i] = math.sqrt(houses[\"Price\"][i])\n",
    "    houses['Price_pow'].at[i] = math.pow(houses[\"Price\"][i],2)"
   ]
  },
  {
   "cell_type": "markdown",
   "metadata": {},
   "source": [
    "After having added all the columns, we analyze the relationship between the three columns `Room`, `Age` and `crime_C_average` with respect to `Price`."
   ]
  },
  {
   "cell_type": "code",
   "execution_count": 32,
   "metadata": {},
   "outputs": [
    {
     "data": {
      "image/png": "[encoded data removed]",
      "text/plain": [
       "<Figure size 1440x720 with 9 Axes>"
      ]
     },
     "metadata": {
      "needs_background": "light"
     },
     "output_type": "display_data"
    }
   ],
   "source": [
    "fig,axs = plt.subplots(3,3,figsize=(20,10))\n",
    "#plt.figure()\n",
    "axs[0][0].scatter(houses['Rooms_log'],houses['Price_log'])\n",
    "axs[0][0].set(xlabel='Rooms_log', ylabel='Price_log')\n",
    "axs[0][1].scatter(houses['Rooms_sqrt'],houses['Price_sqrt'])\n",
    "axs[0][1].set(xlabel='Rooms_sqrt', ylabel='Price_sqrt')\n",
    "axs[0][2].scatter(houses['Rooms_pow'],houses['Price_pow'])\n",
    "axs[0][2].set(xlabel='Rooms_pow', ylabel='Price_pow')\n",
    "axs[1][0].scatter(houses['Age_log'],houses['Price_log'])\n",
    "axs[1][0].set(xlabel='Age_log', ylabel='Price_log')\n",
    "axs[1][1].scatter(houses['Age_sqrt'],houses['Price_sqrt'])\n",
    "axs[1][1].set(xlabel='Age_sqrt', ylabel='Price_sqrt')\n",
    "axs[1][2].scatter(houses['Age_pow'],houses['Price_pow'])\n",
    "axs[1][2].set(xlabel='Age_pow', ylabel='Price_pow')\n",
    "axs[2][0].scatter(houses['crime_C_average_log'],houses['Price_log'])\n",
    "axs[2][0].set(xlabel='crime_C_average_log', ylabel='Price_log')\n",
    "axs[2][1].scatter(houses['crime_C_average_sqrt'],houses['Price_sqrt'])\n",
    "axs[2][1].set(xlabel='crime_C_average_sqrt', ylabel='Price_sqrt')\n",
    "axs[2][2].scatter(houses['crime_C_average_pow'],houses['Price_pow'])\n",
    "axs[2][2].set(xlabel='crime_C_average_pow', ylabel='Price_pow')\n",
    "#for ax in axs.flat:\n",
    "#    ax.set(xlabel='x-label', ylabel='y-label')\n",
    "plt.show()"
   ]
  },
  {
   "cell_type": "markdown",
   "metadata": {},
   "source": [
    "We can infer from the above graphs that there is no clear relationship between these columns. We further apply Z-score normalisation to search for any valid relationship."
   ]
  },
  {
   "cell_type": "markdown",
   "metadata": {},
   "source": [
    "## Z-Score Normalisation for Rooms"
   ]
  },
  {
   "cell_type": "code",
   "execution_count": 33,
   "metadata": {},
   "outputs": [
    {
     "data": {
      "text/plain": [
       "<matplotlib.collections.PathCollection at 0x1a23420a50>"
      ]
     },
     "execution_count": 33,
     "metadata": {},
     "output_type": "execute_result"
    },
    {
     "data": {
      "image/png": "[encoded data removed]",
      "text/plain": [
       "<Figure size 432x288 with 1 Axes>"
      ]
     },
     "metadata": {
      "needs_background": "light"
     },
     "output_type": "display_data"
    }
   ],
   "source": [
    "std_scale = preprocessing.StandardScaler().fit(houses[['Price', 'Rooms']])\n",
    "df_std = std_scale.transform(houses[['Price', 'Rooms']])\n",
    "houses['Price_scaled'] = df_std[:,0]\n",
    "houses['Rooms_scaled'] = df_std[:,1]\n",
    "plt.xlabel('Rooms_scaled')\n",
    "plt.ylabel('Price_scaled')\n",
    "plt.scatter(houses.Rooms_scaled,houses.Price_scaled)"
   ]
  },
  {
   "cell_type": "markdown",
   "metadata": {},
   "source": [
    "There is no clear relationship between `Prices` and `Rooms`."
   ]
  },
  {
   "cell_type": "markdown",
   "metadata": {},
   "source": [
    "## Z-Score Normalisation for Property Age"
   ]
  },
  {
   "cell_type": "code",
   "execution_count": 34,
   "metadata": {},
   "outputs": [
    {
     "data": {
      "text/plain": [
       "<matplotlib.collections.PathCollection at 0x1a261d3210>"
      ]
     },
     "execution_count": 34,
     "metadata": {},
     "output_type": "execute_result"
    },
    {
     "data": {
      "image/png": "[encoded data removed]",
      "text/plain": [
       "<Figure size 432x288 with 1 Axes>"
      ]
     },
     "metadata": {
      "needs_background": "light"
     },
     "output_type": "display_data"
    }
   ],
   "source": [
    "std_scale = preprocessing.StandardScaler().fit(houses[['Price', 'Age']])\n",
    "df_std = std_scale.transform(houses[['Price', 'Age']])\n",
    "houses['Price_scaled'] = df_std[:,0]\n",
    "houses['Age_scaled'] = df_std[:,1]\n",
    "plt.xlabel('Age_scaled')\n",
    "plt.ylabel('Price_scaled')\n",
    "plt.scatter(houses.Age_scaled,houses.Price_scaled)"
   ]
  },
  {
   "cell_type": "markdown",
   "metadata": {},
   "source": [
    "There is no clear relationship between `Prices` and Property `Age`."
   ]
  },
  {
   "cell_type": "markdown",
   "metadata": {},
   "source": [
    "## Z-Score Normalisation for crime_C_average"
   ]
  },
  {
   "cell_type": "code",
   "execution_count": 35,
   "metadata": {},
   "outputs": [
    {
     "data": {
      "text/plain": [
       "<matplotlib.collections.PathCollection at 0x1a262f6410>"
      ]
     },
     "execution_count": 35,
     "metadata": {},
     "output_type": "execute_result"
    },
    {
     "data": {
      "image/png": "[encoded data removed]",
      "text/plain": [
       "<Figure size 432x288 with 1 Axes>"
      ]
     },
     "metadata": {
      "needs_background": "light"
     },
     "output_type": "display_data"
    }
   ],
   "source": [
    "std_scale = preprocessing.StandardScaler().fit(houses[['Price', 'crime_C_average']])\n",
    "df_std = std_scale.transform(houses[['Price', 'crime_C_average']])\n",
    "houses['Price_scaled'] = df_std[:,0]\n",
    "houses['crime_C_average_scaled'] = df_std[:,1]\n",
    "plt.xlabel('crime_C_average_scaled')\n",
    "plt.ylabel('Price_scaled')\n",
    "plt.scatter(houses.crime_C_average_scaled,houses.Price_scaled)"
   ]
  },
  {
   "cell_type": "markdown",
   "metadata": {},
   "source": [
    "There is no clear relationship between `Prices` and `crime_C_average`."
   ]
  },
  {
   "cell_type": "markdown",
   "metadata": {},
   "source": [
    "## Z-Score Normalisation for travel_time_to_CBD"
   ]
  },
  {
   "cell_type": "code",
   "execution_count": 36,
   "metadata": {},
   "outputs": [
    {
     "data": {
      "text/plain": [
       "<matplotlib.collections.PathCollection at 0x1a263b4610>"
      ]
     },
     "execution_count": 36,
     "metadata": {},
     "output_type": "execute_result"
    },
    {
     "data": {
      "image/png": "[encoded data removed]",
      "text/plain": [
       "<Figure size 432x288 with 1 Axes>"
      ]
     },
     "metadata": {
      "needs_background": "light"
     },
     "output_type": "display_data"
    }
   ],
   "source": [
    "std_scale = preprocessing.StandardScaler().fit(houses[['Price', 'travel_min_to_CBD']])\n",
    "df_std = std_scale.transform(houses[['Price', 'travel_min_to_CBD']])\n",
    "houses['Price_scaled'] = df_std[:,0]\n",
    "houses['travel_min_to_CBD_scaled'] = df_std[:,1]\n",
    "plt.xlabel('travel_min_to_CBD_scaled')\n",
    "plt.ylabel('Price_scaled')\n",
    "plt.scatter(houses.travel_min_to_CBD_scaled,houses.Price_scaled)"
   ]
  },
  {
   "cell_type": "markdown",
   "metadata": {},
   "source": [
    "### Result\n",
    "\n",
    "From the above graph, we can see a slight relationship between `travel_min_to_CBD`and `Price`. We can say that `travel_min_to_CBD` can be used as one of the predictors if we were to build a linear model. "
   ]
  }
 ],
 "metadata": {
  "kernelspec": {
   "display_name": "Python 3",
   "language": "python",
   "name": "python3"
  },
  "language_info": {
   "codemirror_mode": {
    "name": "ipython",
    "version": 3
   },
   "file_extension": ".py",
   "mimetype": "text/x-python",
   "name": "python",
   "nbconvert_exporter": "python",
   "pygments_lexer": "ipython3",
   "version": "3.7.4"
  }
 },
 "nbformat": 4,
 "nbformat_minor": 2
}
